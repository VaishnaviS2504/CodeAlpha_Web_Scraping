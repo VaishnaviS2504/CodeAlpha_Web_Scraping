{
  "cells": [
    {
      "cell_type": "markdown",
      "metadata": {
        "id": "YFdMjPmdsjKp"
      },
      "source": [
        " Title: Web Scraping – CodeAlpha Internship\n"
      ]
    },
    {
      "cell_type": "markdown",
      "metadata": {
        "id": "5bU2goYTs04a"
      },
      "source": [
        " In this project, I performed web scraping using Python and BeautifulSoup to extract data from\"http://books.toscrape.com/catalogue/page-1.html\". The data was cleaned and stored in CSV format for analysis."
      ]
    },
    {
      "cell_type": "code",
      "execution_count": 19,
      "metadata": {
        "colab": {
          "base_uri": "https://localhost:8080/"
        },
        "id": "AEl_N20gleXN",
        "outputId": "092e53b3-316a-4e36-f789-8be48b6f3d40"
      },
      "outputs": [
        {
          "name": "stdout",
          "output_type": "stream",
          "text": [
            "Requirement already satisfied: requests in /usr/local/lib/python3.11/dist-packages (2.32.3)\n",
            "Requirement already satisfied: beautifulsoup4 in /usr/local/lib/python3.11/dist-packages (4.13.4)\n",
            "Requirement already satisfied: charset-normalizer<4,>=2 in /usr/local/lib/python3.11/dist-packages (from requests) (3.4.2)\n",
            "Requirement already satisfied: idna<4,>=2.5 in /usr/local/lib/python3.11/dist-packages (from requests) (3.10)\n",
            "Requirement already satisfied: urllib3<3,>=1.21.1 in /usr/local/lib/python3.11/dist-packages (from requests) (2.4.0)\n",
            "Requirement already satisfied: certifi>=2017.4.17 in /usr/local/lib/python3.11/dist-packages (from requests) (2025.4.26)\n",
            "Requirement already satisfied: soupsieve>1.2 in /usr/local/lib/python3.11/dist-packages (from beautifulsoup4) (2.7)\n",
            "Requirement already satisfied: typing-extensions>=4.0.0 in /usr/local/lib/python3.11/dist-packages (from beautifulsoup4) (4.13.2)\n"
          ]
        }
      ],
      "source": [
        "pip install requests beautifulsoup4\n"
      ]
    },
    {
      "cell_type": "code",
      "execution_count": 20,
      "metadata": {
        "id": "97VrCn09lnhZ"
      },
      "outputs": [],
      "source": [
        "import requests\n",
        "from bs4 import BeautifulSoup\n",
        "import pandas as pd\n"
      ]
    },
    {
      "cell_type": "code",
      "execution_count": 21,
      "metadata": {
        "colab": {
          "base_uri": "https://localhost:8080/"
        },
        "id": "rRZP00FWlpFk",
        "outputId": "7b823a7f-5110-43f4-d68e-1e12773b476f"
      },
      "outputs": [
        {
          "name": "stdout",
          "output_type": "stream",
          "text": [
            "Page loaded successfully\n"
          ]
        }
      ],
      "source": [
        "url = \"http://books.toscrape.com/catalogue/page-1.html\"\n",
        "response = requests.get(url)\n",
        "\n",
        "# Check if request was successful\n",
        "if response.status_code == 200:\n",
        "    print(\"Page loaded successfully\")\n",
        "else:\n",
        "    print(\"Failed to retrieve the page\")\n"
      ]
    },
    {
      "cell_type": "code",
      "execution_count": 23,
      "metadata": {
        "id": "xIPPCBCSluoc"
      },
      "outputs": [],
      "source": [
        "soup = BeautifulSoup(response.text, 'html.parser')\n"
      ]
    },
    {
      "cell_type": "markdown",
      "metadata": {
        "id": "vNzfJkIUnN6n"
      },
      "source": [
        "We are scrapping only for page 1"
      ]
    },
    {
      "cell_type": "code",
      "execution_count": 24,
      "metadata": {
        "colab": {
          "base_uri": "https://localhost:8080/"
        },
        "id": "wJfN1ql4ly3p",
        "outputId": "319629b2-77ea-471b-ee63-f7f1e6437bf9"
      },
      "outputs": [
        {
          "name": "stdout",
          "output_type": "stream",
          "text": [
            "Found 20 books on the page\n"
          ]
        }
      ],
      "source": [
        "books = soup.find_all('article', class_='product_pod')\n",
        "print(f\"Found {len(books)} books on the page\")\n"
      ]
    },
    {
      "cell_type": "code",
      "execution_count": 25,
      "metadata": {
        "colab": {
          "base_uri": "https://localhost:8080/"
        },
        "id": "rOXmnbpil2xz",
        "outputId": "8ecb1087-cfa6-4f66-b2e7-c1a71ecbbe91"
      },
      "outputs": [
        {
          "data": {
            "text/plain": [
              "[{'Title': 'A Light in the Attic',\n",
              "  'Price': 'Â£51.77',\n",
              "  'Availability': 'In stock',\n",
              "  'Rating': 'Three'},\n",
              " {'Title': 'Tipping the Velvet',\n",
              "  'Price': 'Â£53.74',\n",
              "  'Availability': 'In stock',\n",
              "  'Rating': 'One'},\n",
              " {'Title': 'Soumission',\n",
              "  'Price': 'Â£50.10',\n",
              "  'Availability': 'In stock',\n",
              "  'Rating': 'One'}]"
            ]
          },
          "execution_count": 25,
          "metadata": {},
          "output_type": "execute_result"
        }
      ],
      "source": [
        "book_list = []\n",
        "\n",
        "for book in books:\n",
        "    title = book.h3.a['title']\n",
        "    price = book.find('p', class_='price_color').text\n",
        "    availability = book.find('p', class_='instock availability').text.strip()\n",
        "\n",
        "    # Rating is in the class of <p> tag, like \"star-rating Three\"\n",
        "    rating_class = book.find('p', class_='star-rating')['class']\n",
        "    rating = rating_class[1]  # second class is rating (One, Two, Three, etc.)\n",
        "\n",
        "    book_list.append({\n",
        "        'Title': title,\n",
        "        'Price': price,\n",
        "        'Availability': availability,\n",
        "        'Rating': rating\n",
        "    })\n",
        "\n",
        "# Check first 3 books\n",
        "book_list[:3]\n"
      ]
    },
    {
      "cell_type": "code",
      "execution_count": 26,
      "metadata": {
        "colab": {
          "base_uri": "https://localhost:8080/"
        },
        "id": "IwDji1RsmLiG",
        "outputId": "5faf5c56-49f8-4384-db7c-c3e11966c503"
      },
      "outputs": [
        {
          "name": "stdout",
          "output_type": "stream",
          "text": [
            "Data saved to books_page_1.csv\n"
          ]
        }
      ],
      "source": [
        "df = pd.DataFrame(book_list)\n",
        "df.to_csv('books_page_1.csv', index=False)\n",
        "print(\"Data saved to books_page_1.csv\")\n"
      ]
    },
    {
      "cell_type": "code",
      "execution_count": 27,
      "metadata": {
        "colab": {
          "base_uri": "https://localhost:8080/",
          "height": 17
        },
        "id": "nCpG9d4FmUQl",
        "outputId": "ada28b82-cdea-44a9-fed8-627d2e517852"
      },
      "outputs": [
        {
          "data": {
            "application/javascript": "\n    async function download(id, filename, size) {\n      if (!google.colab.kernel.accessAllowed) {\n        return;\n      }\n      const div = document.createElement('div');\n      const label = document.createElement('label');\n      label.textContent = `Downloading \"${filename}\": `;\n      div.appendChild(label);\n      const progress = document.createElement('progress');\n      progress.max = size;\n      div.appendChild(progress);\n      document.body.appendChild(div);\n\n      const buffers = [];\n      let downloaded = 0;\n\n      const channel = await google.colab.kernel.comms.open(id);\n      // Send a message to notify the kernel that we're ready.\n      channel.send({})\n\n      for await (const message of channel.messages) {\n        // Send a message to notify the kernel that we're ready.\n        channel.send({})\n        if (message.buffers) {\n          for (const buffer of message.buffers) {\n            buffers.push(buffer);\n            downloaded += buffer.byteLength;\n            progress.value = downloaded;\n          }\n        }\n      }\n      const blob = new Blob(buffers, {type: 'application/binary'});\n      const a = document.createElement('a');\n      a.href = window.URL.createObjectURL(blob);\n      a.download = filename;\n      div.appendChild(a);\n      a.click();\n      div.remove();\n    }\n  ",
            "text/plain": [
              "<IPython.core.display.Javascript object>"
            ]
          },
          "metadata": {},
          "output_type": "display_data"
        },
        {
          "data": {
            "application/javascript": "download(\"download_9d260042-996c-4e0b-ba4d-c1300bbda5fd\", \"books_page_1.csv\", 1239)",
            "text/plain": [
              "<IPython.core.display.Javascript object>"
            ]
          },
          "metadata": {},
          "output_type": "display_data"
        }
      ],
      "source": [
        "from google.colab import files\n",
        "files.download('books_page_1.csv')\n"
      ]
    },
    {
      "cell_type": "markdown",
      "metadata": {
        "id": "nqfaY11CoawC"
      },
      "source": [
        "If we need to scrape multiple pages up to 50 pages following is the code.\n"
      ]
    },
    {
      "cell_type": "code",
      "execution_count": 28,
      "metadata": {
        "colab": {
          "base_uri": "https://localhost:8080/"
        },
        "id": "-Rxos6ojmeP1",
        "outputId": "026c1c8b-1943-4bf2-dc1a-088bf5f0f9a5"
      },
      "outputs": [
        {
          "name": "stdout",
          "output_type": "stream",
          "text": [
            "Scraped 1000 books across 50 pages.\n"
          ]
        }
      ],
      "source": [
        "book_list = []\n",
        "\n",
        "for page_num in range(1, 51):\n",
        "    url = f\"http://books.toscrape.com/catalogue/page-{page_num}.html\"\n",
        "    response = requests.get(url)\n",
        "    if response.status_code != 200:\n",
        "        print(f\"Page {page_num} not found, stopping.\")\n",
        "        break\n",
        "\n",
        "    soup = BeautifulSoup(response.text, 'html.parser')\n",
        "    books = soup.find_all('article', class_='product_pod')\n",
        "\n",
        "    for book in books:\n",
        "        title = book.h3.a['title']\n",
        "        price = book.find('p', class_='price_color').text\n",
        "        availability = book.find('p', class_='instock availability').text.strip()\n",
        "        rating_class = book.find('p', class_='star-rating')['class']\n",
        "        rating = rating_class[1]\n",
        "\n",
        "        book_list.append({\n",
        "            'Title': title,\n",
        "            'Price': price,\n",
        "            'Availability': availability,\n",
        "            'Rating': rating\n",
        "        })\n",
        "\n",
        "df = pd.DataFrame(book_list)\n",
        "df.to_csv('all_books.csv', index=False)\n",
        "print(f\"Scraped {len(book_list)} books across {page_num} pages.\")\n"
      ]
    },
    {
      "cell_type": "code",
      "execution_count": 29,
      "metadata": {
        "id": "1qFAYUdTm5OT"
      },
      "outputs": [],
      "source": [
        "df.to_csv('all_books.csv', index=False)\n"
      ]
    },
    {
      "cell_type": "code",
      "execution_count": 30,
      "metadata": {
        "colab": {
          "base_uri": "https://localhost:8080/",
          "height": 17
        },
        "id": "s8G3_bblm7pN",
        "outputId": "10667feb-b5df-494b-97d5-1f0a2c6b3da2"
      },
      "outputs": [
        {
          "data": {
            "application/javascript": "\n    async function download(id, filename, size) {\n      if (!google.colab.kernel.accessAllowed) {\n        return;\n      }\n      const div = document.createElement('div');\n      const label = document.createElement('label');\n      label.textContent = `Downloading \"${filename}\": `;\n      div.appendChild(label);\n      const progress = document.createElement('progress');\n      progress.max = size;\n      div.appendChild(progress);\n      document.body.appendChild(div);\n\n      const buffers = [];\n      let downloaded = 0;\n\n      const channel = await google.colab.kernel.comms.open(id);\n      // Send a message to notify the kernel that we're ready.\n      channel.send({})\n\n      for await (const message of channel.messages) {\n        // Send a message to notify the kernel that we're ready.\n        channel.send({})\n        if (message.buffers) {\n          for (const buffer of message.buffers) {\n            buffers.push(buffer);\n            downloaded += buffer.byteLength;\n            progress.value = downloaded;\n          }\n        }\n      }\n      const blob = new Blob(buffers, {type: 'application/binary'});\n      const a = document.createElement('a');\n      a.href = window.URL.createObjectURL(blob);\n      a.download = filename;\n      div.appendChild(a);\n      a.click();\n      div.remove();\n    }\n  ",
            "text/plain": [
              "<IPython.core.display.Javascript object>"
            ]
          },
          "metadata": {},
          "output_type": "display_data"
        },
        {
          "data": {
            "application/javascript": "download(\"download_485e76c3-57d4-4874-8421-bacc47fdda08\", \"all_books.csv\", 64248)",
            "text/plain": [
              "<IPython.core.display.Javascript object>"
            ]
          },
          "metadata": {},
          "output_type": "display_data"
        }
      ],
      "source": [
        "from google.colab import files\n",
        "files.download('all_books.csv')\n"
      ]
    }
  ],
  "metadata": {
    "colab": {
      "provenance": []
    },
    "kernelspec": {
      "display_name": "Python 3",
      "name": "python3"
    },
    "language_info": {
      "name": "python"
    }
  },
  "nbformat": 4,
  "nbformat_minor": 0
}
